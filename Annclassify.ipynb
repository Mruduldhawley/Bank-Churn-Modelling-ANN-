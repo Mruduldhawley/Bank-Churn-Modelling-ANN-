{
  "nbformat": 4,
  "nbformat_minor": 0,
  "metadata": {
    "colab": {
      "name": "Annclassify.ipynb",
      "provenance": [],
      "collapsed_sections": []
    },
    "kernelspec": {
      "name": "python3",
      "display_name": "Python 3"
    },
    "language_info": {
      "name": "python"
    }
  },
  "cells": [
    {
      "cell_type": "code",
      "metadata": {
        "id": "dCmUlwpmnBtE"
      },
      "source": [
        "import pandas as pd\n",
        "import numpy as np\n",
        "import matplotlib.pyplot as plt\n",
        "import tensorflow as tf\n",
        "import seaborn as sns\n",
        "\n",
        "%matplotlib inline"
      ],
      "execution_count": null,
      "outputs": []
    },
    {
      "cell_type": "markdown",
      "metadata": {
        "id": "_ICuicEl0ABx"
      },
      "source": [
        "# Data Preprocessing"
      ]
    },
    {
      "cell_type": "code",
      "metadata": {
        "id": "Ou49eUai0Fzf"
      },
      "source": [
        "df = pd.read_csv('Churn_Modelling.csv')\n",
        "X = df.iloc[:, 3:-1].values\n",
        "y = df.iloc[:,-1].values"
      ],
      "execution_count": null,
      "outputs": []
    },
    {
      "cell_type": "code",
      "metadata": {
        "colab": {
          "base_uri": "https://localhost:8080/",
          "height": 222
        },
        "id": "wZ8oDRXx2CpR",
        "outputId": "1de01b1f-a66b-4bf2-e33c-53f8798af201"
      },
      "source": [
        "df.head()"
      ],
      "execution_count": null,
      "outputs": [
        {
          "output_type": "execute_result",
          "data": {
            "text/html": [
              "<div>\n",
              "<style scoped>\n",
              "    .dataframe tbody tr th:only-of-type {\n",
              "        vertical-align: middle;\n",
              "    }\n",
              "\n",
              "    .dataframe tbody tr th {\n",
              "        vertical-align: top;\n",
              "    }\n",
              "\n",
              "    .dataframe thead th {\n",
              "        text-align: right;\n",
              "    }\n",
              "</style>\n",
              "<table border=\"1\" class=\"dataframe\">\n",
              "  <thead>\n",
              "    <tr style=\"text-align: right;\">\n",
              "      <th></th>\n",
              "      <th>RowNumber</th>\n",
              "      <th>CustomerId</th>\n",
              "      <th>Surname</th>\n",
              "      <th>CreditScore</th>\n",
              "      <th>Geography</th>\n",
              "      <th>Gender</th>\n",
              "      <th>Age</th>\n",
              "      <th>Tenure</th>\n",
              "      <th>Balance</th>\n",
              "      <th>NumOfProducts</th>\n",
              "      <th>HasCrCard</th>\n",
              "      <th>IsActiveMember</th>\n",
              "      <th>EstimatedSalary</th>\n",
              "      <th>Exited</th>\n",
              "    </tr>\n",
              "  </thead>\n",
              "  <tbody>\n",
              "    <tr>\n",
              "      <th>0</th>\n",
              "      <td>1</td>\n",
              "      <td>15634602</td>\n",
              "      <td>Hargrave</td>\n",
              "      <td>619</td>\n",
              "      <td>France</td>\n",
              "      <td>Female</td>\n",
              "      <td>42</td>\n",
              "      <td>2</td>\n",
              "      <td>0.00</td>\n",
              "      <td>1</td>\n",
              "      <td>1</td>\n",
              "      <td>1</td>\n",
              "      <td>101348.88</td>\n",
              "      <td>1</td>\n",
              "    </tr>\n",
              "    <tr>\n",
              "      <th>1</th>\n",
              "      <td>2</td>\n",
              "      <td>15647311</td>\n",
              "      <td>Hill</td>\n",
              "      <td>608</td>\n",
              "      <td>Spain</td>\n",
              "      <td>Female</td>\n",
              "      <td>41</td>\n",
              "      <td>1</td>\n",
              "      <td>83807.86</td>\n",
              "      <td>1</td>\n",
              "      <td>0</td>\n",
              "      <td>1</td>\n",
              "      <td>112542.58</td>\n",
              "      <td>0</td>\n",
              "    </tr>\n",
              "    <tr>\n",
              "      <th>2</th>\n",
              "      <td>3</td>\n",
              "      <td>15619304</td>\n",
              "      <td>Onio</td>\n",
              "      <td>502</td>\n",
              "      <td>France</td>\n",
              "      <td>Female</td>\n",
              "      <td>42</td>\n",
              "      <td>8</td>\n",
              "      <td>159660.80</td>\n",
              "      <td>3</td>\n",
              "      <td>1</td>\n",
              "      <td>0</td>\n",
              "      <td>113931.57</td>\n",
              "      <td>1</td>\n",
              "    </tr>\n",
              "    <tr>\n",
              "      <th>3</th>\n",
              "      <td>4</td>\n",
              "      <td>15701354</td>\n",
              "      <td>Boni</td>\n",
              "      <td>699</td>\n",
              "      <td>France</td>\n",
              "      <td>Female</td>\n",
              "      <td>39</td>\n",
              "      <td>1</td>\n",
              "      <td>0.00</td>\n",
              "      <td>2</td>\n",
              "      <td>0</td>\n",
              "      <td>0</td>\n",
              "      <td>93826.63</td>\n",
              "      <td>0</td>\n",
              "    </tr>\n",
              "    <tr>\n",
              "      <th>4</th>\n",
              "      <td>5</td>\n",
              "      <td>15737888</td>\n",
              "      <td>Mitchell</td>\n",
              "      <td>850</td>\n",
              "      <td>Spain</td>\n",
              "      <td>Female</td>\n",
              "      <td>43</td>\n",
              "      <td>2</td>\n",
              "      <td>125510.82</td>\n",
              "      <td>1</td>\n",
              "      <td>1</td>\n",
              "      <td>1</td>\n",
              "      <td>79084.10</td>\n",
              "      <td>0</td>\n",
              "    </tr>\n",
              "  </tbody>\n",
              "</table>\n",
              "</div>"
            ],
            "text/plain": [
              "   RowNumber  CustomerId   Surname  ...  IsActiveMember EstimatedSalary Exited\n",
              "0          1    15634602  Hargrave  ...               1       101348.88      1\n",
              "1          2    15647311      Hill  ...               1       112542.58      0\n",
              "2          3    15619304      Onio  ...               0       113931.57      1\n",
              "3          4    15701354      Boni  ...               0        93826.63      0\n",
              "4          5    15737888  Mitchell  ...               1        79084.10      0\n",
              "\n",
              "[5 rows x 14 columns]"
            ]
          },
          "metadata": {},
          "execution_count": 18
        }
      ]
    },
    {
      "cell_type": "code",
      "metadata": {
        "colab": {
          "base_uri": "https://localhost:8080/"
        },
        "id": "2f3voXS72td3",
        "outputId": "f7877836-9d91-449a-c285-0720c7bf8283"
      },
      "source": [
        "df.isnull().sum()"
      ],
      "execution_count": null,
      "outputs": [
        {
          "output_type": "execute_result",
          "data": {
            "text/plain": [
              "RowNumber          0\n",
              "CustomerId         0\n",
              "Surname            0\n",
              "CreditScore        0\n",
              "Geography          0\n",
              "Gender             0\n",
              "Age                0\n",
              "Tenure             0\n",
              "Balance            0\n",
              "NumOfProducts      0\n",
              "HasCrCard          0\n",
              "IsActiveMember     0\n",
              "EstimatedSalary    0\n",
              "Exited             0\n",
              "dtype: int64"
            ]
          },
          "metadata": {},
          "execution_count": 19
        }
      ]
    },
    {
      "cell_type": "code",
      "metadata": {
        "colab": {
          "base_uri": "https://localhost:8080/"
        },
        "id": "oes313Zp1m5A",
        "outputId": "76de2db8-2dc0-4267-8b08-ade2701f756b"
      },
      "source": [
        "X"
      ],
      "execution_count": null,
      "outputs": [
        {
          "output_type": "execute_result",
          "data": {
            "text/plain": [
              "array([[619, 'France', 'Female', ..., 1, 1, 101348.88],\n",
              "       [608, 'Spain', 'Female', ..., 0, 1, 112542.58],\n",
              "       [502, 'France', 'Female', ..., 1, 0, 113931.57],\n",
              "       ...,\n",
              "       [709, 'France', 'Female', ..., 0, 1, 42085.58],\n",
              "       [772, 'Germany', 'Male', ..., 1, 0, 92888.52],\n",
              "       [792, 'France', 'Female', ..., 1, 0, 38190.78]], dtype=object)"
            ]
          },
          "metadata": {},
          "execution_count": 23
        }
      ]
    },
    {
      "cell_type": "code",
      "metadata": {
        "colab": {
          "base_uri": "https://localhost:8080/"
        },
        "id": "qhTgdhYi1rlI",
        "outputId": "954c854e-b145-4c34-effb-1cb279c81604"
      },
      "source": [
        "y"
      ],
      "execution_count": null,
      "outputs": [
        {
          "output_type": "execute_result",
          "data": {
            "text/plain": [
              "array([1, 0, 1, ..., 1, 1, 0])"
            ]
          },
          "metadata": {},
          "execution_count": 21
        }
      ]
    },
    {
      "cell_type": "markdown",
      "metadata": {
        "id": "wd4H8B-Z2VUO"
      },
      "source": [
        "**handling categorical values**"
      ]
    },
    {
      "cell_type": "code",
      "metadata": {
        "id": "kENUcrod1smA"
      },
      "source": [
        "from sklearn.preprocessing import LabelEncoder\n",
        "le = LabelEncoder()\n",
        "X[:, 2] = le.fit_transform(X[:, 2]) "
      ],
      "execution_count": null,
      "outputs": []
    },
    {
      "cell_type": "code",
      "metadata": {
        "colab": {
          "base_uri": "https://localhost:8080/"
        },
        "id": "z-vD3xk_3H_-",
        "outputId": "cf02bea6-cf16-4faa-864e-502a3489ce7f"
      },
      "source": [
        "print(X)"
      ],
      "execution_count": null,
      "outputs": [
        {
          "output_type": "stream",
          "name": "stdout",
          "text": [
            "[[619 'France' 0 ... 1 1 101348.88]\n",
            " [608 'Spain' 0 ... 0 1 112542.58]\n",
            " [502 'France' 0 ... 1 0 113931.57]\n",
            " ...\n",
            " [709 'France' 0 ... 0 1 42085.58]\n",
            " [772 'Germany' 1 ... 1 0 92888.52]\n",
            " [792 'France' 0 ... 1 0 38190.78]]\n"
          ]
        }
      ]
    },
    {
      "cell_type": "markdown",
      "metadata": {
        "id": "UnNecrxU34d4"
      },
      "source": [
        "Encoding Country"
      ]
    },
    {
      "cell_type": "code",
      "metadata": {
        "id": "A_u0I5933naY"
      },
      "source": [
        "from sklearn.compose import ColumnTransformer\n",
        "from sklearn.preprocessing import OneHotEncoder\n",
        "ct = ColumnTransformer(transformers=[('encoder',OneHotEncoder(),[1])], remainder='passthrough' )\n",
        "X = np.array(ct.fit_transform(X))   "
      ],
      "execution_count": null,
      "outputs": []
    },
    {
      "cell_type": "code",
      "metadata": {
        "colab": {
          "base_uri": "https://localhost:8080/"
        },
        "id": "5hzem7wL5pdx",
        "outputId": "d0c04523-da5a-4b4c-e4a6-740282c53577"
      },
      "source": [
        "print(X)"
      ],
      "execution_count": null,
      "outputs": [
        {
          "output_type": "stream",
          "name": "stdout",
          "text": [
            "[[1.0 0.0 0.0 ... 1 1 101348.88]\n",
            " [0.0 0.0 1.0 ... 0 1 112542.58]\n",
            " [1.0 0.0 0.0 ... 1 0 113931.57]\n",
            " ...\n",
            " [1.0 0.0 0.0 ... 0 1 42085.58]\n",
            " [0.0 1.0 0.0 ... 1 0 92888.52]\n",
            " [1.0 0.0 0.0 ... 1 0 38190.78]]\n"
          ]
        }
      ]
    },
    {
      "cell_type": "code",
      "metadata": {
        "id": "C_sxzPVw5ql-"
      },
      "source": [
        "from sklearn.model_selection import train_test_split\n",
        "X_train,X_test,y_train,y_test  = train_test_split(X,y, test_size= 0.25, random_state=1 )"
      ],
      "execution_count": null,
      "outputs": []
    },
    {
      "cell_type": "markdown",
      "metadata": {
        "id": "5duTRQVF6rqF"
      },
      "source": [
        "Feature Scaling"
      ]
    },
    {
      "cell_type": "code",
      "metadata": {
        "id": "hSPEpmKF6wWf"
      },
      "source": [
        "from sklearn.preprocessing import StandardScaler\n",
        "sc = StandardScaler()\n",
        "X_train = sc.fit_transform(X_train)\n",
        "X_test = sc.fit_transform(X_test)"
      ],
      "execution_count": null,
      "outputs": []
    },
    {
      "cell_type": "markdown",
      "metadata": {
        "id": "CnHo0wK98vQl"
      },
      "source": [
        "# **Building ANN**"
      ]
    },
    {
      "cell_type": "code",
      "metadata": {
        "id": "zxn8Sxy27Zzh"
      },
      "source": [
        "#initilizing ann\n",
        "ann = tf.keras.models.Sequential()"
      ],
      "execution_count": null,
      "outputs": []
    },
    {
      "cell_type": "code",
      "metadata": {
        "id": "zkx4_Tw3-fsH"
      },
      "source": [
        "#1st Layer (adding inputlayer and hiddenlayer)\n",
        "ann.add(tf.keras.layers.Dense(units=5, activation='relu'))"
      ],
      "execution_count": null,
      "outputs": []
    },
    {
      "cell_type": "code",
      "metadata": {
        "id": "RG9a4mumAivz"
      },
      "source": [
        "#2nd Layer ( hiddenlayer)\n",
        "ann.add(tf.keras.layers.Dense(units=6, activation='relu'))"
      ],
      "execution_count": null,
      "outputs": []
    },
    {
      "cell_type": "code",
      "metadata": {
        "id": "UJTg-nr-A152"
      },
      "source": [
        "#Output Layer\n",
        "ann.add(tf.keras.layers.Dense(units=1, activation='sigmoid'))"
      ],
      "execution_count": null,
      "outputs": []
    },
    {
      "cell_type": "markdown",
      "metadata": {
        "id": "MIaTzedSCbrF"
      },
      "source": [
        "Compiling and training ann\n"
      ]
    },
    {
      "cell_type": "code",
      "metadata": {
        "id": "XuDAWY6cBt9F"
      },
      "source": [
        "ann.compile(optimizer='adam',loss='binary_crossentropy',metrics=['accuracy'])"
      ],
      "execution_count": null,
      "outputs": []
    },
    {
      "cell_type": "markdown",
      "metadata": {
        "id": "JTVGY8cuEK3V"
      },
      "source": [
        "training\n"
      ]
    },
    {
      "cell_type": "code",
      "metadata": {
        "id": "YNu6KwrEYaIQ"
      },
      "source": [
        ""
      ],
      "execution_count": null,
      "outputs": []
    },
    {
      "cell_type": "code",
      "metadata": {
        "colab": {
          "base_uri": "https://localhost:8080/"
        },
        "id": "iU8jJ89CEJ4M",
        "outputId": "7e8aa660-5d56-4ded-a13b-f71e5002e7a1"
      },
      "source": [
        "ann.fit(X_train,y_train, batch_size=32, epochs = 120)"
      ],
      "execution_count": null,
      "outputs": [
        {
          "output_type": "stream",
          "name": "stdout",
          "text": [
            "Epoch 1/120\n",
            "235/235 [==============================] - 1s 1ms/step - loss: 0.6085 - accuracy: 0.7129\n",
            "Epoch 2/120\n",
            "235/235 [==============================] - 0s 1ms/step - loss: 0.5001 - accuracy: 0.7977\n",
            "Epoch 3/120\n",
            "235/235 [==============================] - 0s 1ms/step - loss: 0.4694 - accuracy: 0.7977\n",
            "Epoch 4/120\n",
            "235/235 [==============================] - 0s 1ms/step - loss: 0.4499 - accuracy: 0.7977\n",
            "Epoch 5/120\n",
            "235/235 [==============================] - 0s 1ms/step - loss: 0.4313 - accuracy: 0.7977\n",
            "Epoch 6/120\n",
            "235/235 [==============================] - 0s 1ms/step - loss: 0.4141 - accuracy: 0.8043\n",
            "Epoch 7/120\n",
            "235/235 [==============================] - 0s 1ms/step - loss: 0.3981 - accuracy: 0.8180\n",
            "Epoch 8/120\n",
            "235/235 [==============================] - 0s 1ms/step - loss: 0.3848 - accuracy: 0.8336\n",
            "Epoch 9/120\n",
            "235/235 [==============================] - 0s 1ms/step - loss: 0.3744 - accuracy: 0.8441\n",
            "Epoch 10/120\n",
            "235/235 [==============================] - 0s 1ms/step - loss: 0.3671 - accuracy: 0.8489\n",
            "Epoch 11/120\n",
            "235/235 [==============================] - 0s 1ms/step - loss: 0.3613 - accuracy: 0.8527\n",
            "Epoch 12/120\n",
            "235/235 [==============================] - 0s 1ms/step - loss: 0.3570 - accuracy: 0.8547\n",
            "Epoch 13/120\n",
            "235/235 [==============================] - 0s 1ms/step - loss: 0.3534 - accuracy: 0.8551\n",
            "Epoch 14/120\n",
            "235/235 [==============================] - 0s 1ms/step - loss: 0.3506 - accuracy: 0.8564\n",
            "Epoch 15/120\n",
            "235/235 [==============================] - 0s 1ms/step - loss: 0.3486 - accuracy: 0.8557\n",
            "Epoch 16/120\n",
            "235/235 [==============================] - 0s 1ms/step - loss: 0.3465 - accuracy: 0.8567\n",
            "Epoch 17/120\n",
            "235/235 [==============================] - 0s 1ms/step - loss: 0.3458 - accuracy: 0.8575\n",
            "Epoch 18/120\n",
            "235/235 [==============================] - 0s 1ms/step - loss: 0.3449 - accuracy: 0.8576\n",
            "Epoch 19/120\n",
            "235/235 [==============================] - 0s 1ms/step - loss: 0.3434 - accuracy: 0.8580\n",
            "Epoch 20/120\n",
            "235/235 [==============================] - 0s 1ms/step - loss: 0.3427 - accuracy: 0.8600\n",
            "Epoch 21/120\n",
            "235/235 [==============================] - 0s 1ms/step - loss: 0.3419 - accuracy: 0.8593\n",
            "Epoch 22/120\n",
            "235/235 [==============================] - 0s 1ms/step - loss: 0.3415 - accuracy: 0.8585\n",
            "Epoch 23/120\n",
            "235/235 [==============================] - 0s 1ms/step - loss: 0.3411 - accuracy: 0.8573\n",
            "Epoch 24/120\n",
            "235/235 [==============================] - 0s 1ms/step - loss: 0.3404 - accuracy: 0.8567\n",
            "Epoch 25/120\n",
            "235/235 [==============================] - 0s 1ms/step - loss: 0.3401 - accuracy: 0.8599\n",
            "Epoch 26/120\n",
            "235/235 [==============================] - 0s 1ms/step - loss: 0.3391 - accuracy: 0.8591\n",
            "Epoch 27/120\n",
            "235/235 [==============================] - 0s 1ms/step - loss: 0.3396 - accuracy: 0.8584\n",
            "Epoch 28/120\n",
            "235/235 [==============================] - 0s 1ms/step - loss: 0.3391 - accuracy: 0.8587\n",
            "Epoch 29/120\n",
            "235/235 [==============================] - 0s 1ms/step - loss: 0.3391 - accuracy: 0.8591\n",
            "Epoch 30/120\n",
            "235/235 [==============================] - 0s 1ms/step - loss: 0.3384 - accuracy: 0.8587\n",
            "Epoch 31/120\n",
            "235/235 [==============================] - 0s 1ms/step - loss: 0.3386 - accuracy: 0.8576\n",
            "Epoch 32/120\n",
            "235/235 [==============================] - 0s 1ms/step - loss: 0.3380 - accuracy: 0.8605\n",
            "Epoch 33/120\n",
            "235/235 [==============================] - 0s 1ms/step - loss: 0.3382 - accuracy: 0.8585\n",
            "Epoch 34/120\n",
            "235/235 [==============================] - 0s 1ms/step - loss: 0.3382 - accuracy: 0.8581\n",
            "Epoch 35/120\n",
            "235/235 [==============================] - 0s 1ms/step - loss: 0.3379 - accuracy: 0.8593\n",
            "Epoch 36/120\n",
            "235/235 [==============================] - 0s 1ms/step - loss: 0.3381 - accuracy: 0.8591\n",
            "Epoch 37/120\n",
            "235/235 [==============================] - 0s 1ms/step - loss: 0.3375 - accuracy: 0.8589\n",
            "Epoch 38/120\n",
            "235/235 [==============================] - 0s 1ms/step - loss: 0.3376 - accuracy: 0.8609\n",
            "Epoch 39/120\n",
            "235/235 [==============================] - 0s 1ms/step - loss: 0.3379 - accuracy: 0.8591\n",
            "Epoch 40/120\n",
            "235/235 [==============================] - 0s 1ms/step - loss: 0.3375 - accuracy: 0.8597\n",
            "Epoch 41/120\n",
            "235/235 [==============================] - 0s 1ms/step - loss: 0.3376 - accuracy: 0.8591\n",
            "Epoch 42/120\n",
            "235/235 [==============================] - 0s 1ms/step - loss: 0.3373 - accuracy: 0.8583\n",
            "Epoch 43/120\n",
            "235/235 [==============================] - 0s 1ms/step - loss: 0.3369 - accuracy: 0.8599\n",
            "Epoch 44/120\n",
            "235/235 [==============================] - 0s 1ms/step - loss: 0.3371 - accuracy: 0.8603\n",
            "Epoch 45/120\n",
            "235/235 [==============================] - 0s 1ms/step - loss: 0.3375 - accuracy: 0.8585\n",
            "Epoch 46/120\n",
            "235/235 [==============================] - 0s 1ms/step - loss: 0.3370 - accuracy: 0.8597\n",
            "Epoch 47/120\n",
            "235/235 [==============================] - 0s 1ms/step - loss: 0.3370 - accuracy: 0.8571\n",
            "Epoch 48/120\n",
            "235/235 [==============================] - 0s 1ms/step - loss: 0.3370 - accuracy: 0.8575\n",
            "Epoch 49/120\n",
            "235/235 [==============================] - 0s 1ms/step - loss: 0.3366 - accuracy: 0.8589\n",
            "Epoch 50/120\n",
            "235/235 [==============================] - 0s 1ms/step - loss: 0.3369 - accuracy: 0.8576\n",
            "Epoch 51/120\n",
            "235/235 [==============================] - 0s 1ms/step - loss: 0.3367 - accuracy: 0.8593\n",
            "Epoch 52/120\n",
            "235/235 [==============================] - 0s 1ms/step - loss: 0.3367 - accuracy: 0.8584\n",
            "Epoch 53/120\n",
            "235/235 [==============================] - 0s 1ms/step - loss: 0.3364 - accuracy: 0.8597\n",
            "Epoch 54/120\n",
            "235/235 [==============================] - 0s 1ms/step - loss: 0.3366 - accuracy: 0.8592\n",
            "Epoch 55/120\n",
            "235/235 [==============================] - 0s 1ms/step - loss: 0.3366 - accuracy: 0.8600\n",
            "Epoch 56/120\n",
            "235/235 [==============================] - 0s 1ms/step - loss: 0.3366 - accuracy: 0.8589\n",
            "Epoch 57/120\n",
            "235/235 [==============================] - 0s 1ms/step - loss: 0.3364 - accuracy: 0.8603\n",
            "Epoch 58/120\n",
            "235/235 [==============================] - 0s 1ms/step - loss: 0.3364 - accuracy: 0.8595\n",
            "Epoch 59/120\n",
            "235/235 [==============================] - 0s 1ms/step - loss: 0.3364 - accuracy: 0.8589\n",
            "Epoch 60/120\n",
            "235/235 [==============================] - 0s 1ms/step - loss: 0.3362 - accuracy: 0.8597\n",
            "Epoch 61/120\n",
            "235/235 [==============================] - 0s 1ms/step - loss: 0.3361 - accuracy: 0.8608\n",
            "Epoch 62/120\n",
            "235/235 [==============================] - 0s 1ms/step - loss: 0.3362 - accuracy: 0.8609\n",
            "Epoch 63/120\n",
            "235/235 [==============================] - 0s 1ms/step - loss: 0.3361 - accuracy: 0.8583\n",
            "Epoch 64/120\n",
            "235/235 [==============================] - 0s 1ms/step - loss: 0.3362 - accuracy: 0.8592\n",
            "Epoch 65/120\n",
            "235/235 [==============================] - 0s 1ms/step - loss: 0.3362 - accuracy: 0.8593\n",
            "Epoch 66/120\n",
            "235/235 [==============================] - 0s 1ms/step - loss: 0.3362 - accuracy: 0.8601\n",
            "Epoch 67/120\n",
            "235/235 [==============================] - 0s 1ms/step - loss: 0.3362 - accuracy: 0.8591\n",
            "Epoch 68/120\n",
            "235/235 [==============================] - 0s 1ms/step - loss: 0.3361 - accuracy: 0.8572\n",
            "Epoch 69/120\n",
            "235/235 [==============================] - 0s 1ms/step - loss: 0.3360 - accuracy: 0.8589\n",
            "Epoch 70/120\n",
            "235/235 [==============================] - 0s 1ms/step - loss: 0.3358 - accuracy: 0.8605\n",
            "Epoch 71/120\n",
            "235/235 [==============================] - 0s 1ms/step - loss: 0.3359 - accuracy: 0.8583\n",
            "Epoch 72/120\n",
            "235/235 [==============================] - 0s 1ms/step - loss: 0.3359 - accuracy: 0.8600\n",
            "Epoch 73/120\n",
            "235/235 [==============================] - 0s 1ms/step - loss: 0.3360 - accuracy: 0.8587\n",
            "Epoch 74/120\n",
            "235/235 [==============================] - 0s 1ms/step - loss: 0.3359 - accuracy: 0.8596\n",
            "Epoch 75/120\n",
            "235/235 [==============================] - 0s 1ms/step - loss: 0.3357 - accuracy: 0.8593\n",
            "Epoch 76/120\n",
            "235/235 [==============================] - 0s 1ms/step - loss: 0.3358 - accuracy: 0.8589\n",
            "Epoch 77/120\n",
            "235/235 [==============================] - 0s 1ms/step - loss: 0.3357 - accuracy: 0.8581\n",
            "Epoch 78/120\n",
            "235/235 [==============================] - 0s 1ms/step - loss: 0.3355 - accuracy: 0.8596\n",
            "Epoch 79/120\n",
            "235/235 [==============================] - 0s 1ms/step - loss: 0.3358 - accuracy: 0.8589\n",
            "Epoch 80/120\n",
            "235/235 [==============================] - 0s 1ms/step - loss: 0.3355 - accuracy: 0.8611\n",
            "Epoch 81/120\n",
            "235/235 [==============================] - 0s 1ms/step - loss: 0.3355 - accuracy: 0.8593\n",
            "Epoch 82/120\n",
            "235/235 [==============================] - 0s 1ms/step - loss: 0.3356 - accuracy: 0.8595\n",
            "Epoch 83/120\n",
            "235/235 [==============================] - 0s 1ms/step - loss: 0.3354 - accuracy: 0.8591\n",
            "Epoch 84/120\n",
            "235/235 [==============================] - 0s 1ms/step - loss: 0.3357 - accuracy: 0.8597\n",
            "Epoch 85/120\n",
            "235/235 [==============================] - 0s 1ms/step - loss: 0.3356 - accuracy: 0.8599\n",
            "Epoch 86/120\n",
            "235/235 [==============================] - 0s 1ms/step - loss: 0.3356 - accuracy: 0.8599\n",
            "Epoch 87/120\n",
            "235/235 [==============================] - 0s 1ms/step - loss: 0.3353 - accuracy: 0.8591\n",
            "Epoch 88/120\n",
            "235/235 [==============================] - 0s 1ms/step - loss: 0.3355 - accuracy: 0.8595\n",
            "Epoch 89/120\n",
            "235/235 [==============================] - 0s 1ms/step - loss: 0.3351 - accuracy: 0.8609\n",
            "Epoch 90/120\n",
            "235/235 [==============================] - 0s 1ms/step - loss: 0.3353 - accuracy: 0.8600\n",
            "Epoch 91/120\n",
            "235/235 [==============================] - 0s 1ms/step - loss: 0.3353 - accuracy: 0.8583\n",
            "Epoch 92/120\n",
            "235/235 [==============================] - 0s 1ms/step - loss: 0.3353 - accuracy: 0.8607\n",
            "Epoch 93/120\n",
            "235/235 [==============================] - 0s 1ms/step - loss: 0.3352 - accuracy: 0.8592\n",
            "Epoch 94/120\n",
            "235/235 [==============================] - 0s 1ms/step - loss: 0.3353 - accuracy: 0.8599\n",
            "Epoch 95/120\n",
            "235/235 [==============================] - 0s 1ms/step - loss: 0.3352 - accuracy: 0.8613\n",
            "Epoch 96/120\n",
            "235/235 [==============================] - 0s 1ms/step - loss: 0.3351 - accuracy: 0.8585\n",
            "Epoch 97/120\n",
            "235/235 [==============================] - 0s 1ms/step - loss: 0.3352 - accuracy: 0.8620\n",
            "Epoch 98/120\n",
            "235/235 [==============================] - 0s 1ms/step - loss: 0.3350 - accuracy: 0.8600\n",
            "Epoch 99/120\n",
            "235/235 [==============================] - 0s 1ms/step - loss: 0.3352 - accuracy: 0.8605\n",
            "Epoch 100/120\n",
            "235/235 [==============================] - 0s 1ms/step - loss: 0.3354 - accuracy: 0.8608\n",
            "Epoch 101/120\n",
            "235/235 [==============================] - 0s 1ms/step - loss: 0.3353 - accuracy: 0.8603\n",
            "Epoch 102/120\n",
            "235/235 [==============================] - 0s 1ms/step - loss: 0.3351 - accuracy: 0.8601\n",
            "Epoch 103/120\n",
            "235/235 [==============================] - 0s 1ms/step - loss: 0.3351 - accuracy: 0.8591\n",
            "Epoch 104/120\n",
            "235/235 [==============================] - 0s 1ms/step - loss: 0.3352 - accuracy: 0.8609\n",
            "Epoch 105/120\n",
            "235/235 [==============================] - 0s 1ms/step - loss: 0.3356 - accuracy: 0.8609\n",
            "Epoch 106/120\n",
            "235/235 [==============================] - 0s 1ms/step - loss: 0.3348 - accuracy: 0.8605\n",
            "Epoch 107/120\n",
            "235/235 [==============================] - 0s 1ms/step - loss: 0.3351 - accuracy: 0.8605\n",
            "Epoch 108/120\n",
            "235/235 [==============================] - 0s 1ms/step - loss: 0.3351 - accuracy: 0.8603\n",
            "Epoch 109/120\n",
            "235/235 [==============================] - 0s 1ms/step - loss: 0.3346 - accuracy: 0.8608\n",
            "Epoch 110/120\n",
            "235/235 [==============================] - 0s 1ms/step - loss: 0.3351 - accuracy: 0.8595\n",
            "Epoch 111/120\n",
            "235/235 [==============================] - 0s 1ms/step - loss: 0.3348 - accuracy: 0.8605\n",
            "Epoch 112/120\n",
            "235/235 [==============================] - 0s 1ms/step - loss: 0.3348 - accuracy: 0.8607\n",
            "Epoch 113/120\n",
            "235/235 [==============================] - 0s 1ms/step - loss: 0.3353 - accuracy: 0.8607\n",
            "Epoch 114/120\n",
            "235/235 [==============================] - 0s 1ms/step - loss: 0.3349 - accuracy: 0.8580\n",
            "Epoch 115/120\n",
            "235/235 [==============================] - 0s 1ms/step - loss: 0.3345 - accuracy: 0.8612\n",
            "Epoch 116/120\n",
            "235/235 [==============================] - 0s 1ms/step - loss: 0.3346 - accuracy: 0.8616\n",
            "Epoch 117/120\n",
            "235/235 [==============================] - 0s 1ms/step - loss: 0.3348 - accuracy: 0.8609\n",
            "Epoch 118/120\n",
            "235/235 [==============================] - 0s 1ms/step - loss: 0.3348 - accuracy: 0.8615\n",
            "Epoch 119/120\n",
            "235/235 [==============================] - 0s 1ms/step - loss: 0.3352 - accuracy: 0.8608\n",
            "Epoch 120/120\n",
            "235/235 [==============================] - 0s 1ms/step - loss: 0.3351 - accuracy: 0.8600\n"
          ]
        },
        {
          "output_type": "execute_result",
          "data": {
            "text/plain": [
              "<keras.callbacks.History at 0x7f501401dd90>"
            ]
          },
          "metadata": {},
          "execution_count": 43
        }
      ]
    },
    {
      "cell_type": "code",
      "metadata": {
        "colab": {
          "base_uri": "https://localhost:8080/"
        },
        "id": "40ST-a3SE1x8",
        "outputId": "88f048af-afeb-4ddf-d0a8-e93ba2bfcfd1"
      },
      "source": [
        "print(ann.predict(sc.transform([[1,0,0,600,1,40,3,60000,2,1,1,50000]])) >0.5)"
      ],
      "execution_count": null,
      "outputs": [
        {
          "output_type": "stream",
          "name": "stdout",
          "text": [
            "[[False]]\n"
          ]
        }
      ]
    },
    {
      "cell_type": "code",
      "metadata": {
        "colab": {
          "base_uri": "https://localhost:8080/"
        },
        "id": "VKuLXZP7HZuT",
        "outputId": "5d73f144-5780-47be-dcb1-62252822bf35"
      },
      "source": [
        "y_pred=ann.predict(X_test)\n",
        "y_pred=  (y_pred>0.5)\n",
        "print(np.concatenate((y_pred.reshape(len(y_pred),1), y_test.reshape(len(y_test),1)),1))"
      ],
      "execution_count": null,
      "outputs": [
        {
          "output_type": "stream",
          "name": "stdout",
          "text": [
            "[[0 0]\n",
            " [0 0]\n",
            " [0 0]\n",
            " ...\n",
            " [0 1]\n",
            " [0 0]\n",
            " [0 0]]\n"
          ]
        }
      ]
    },
    {
      "cell_type": "code",
      "metadata": {
        "colab": {
          "base_uri": "https://localhost:8080/",
          "height": 370
        },
        "id": "akMptlkmJTZi",
        "outputId": "d0462256-155c-4350-ea73-b216af4f24a4"
      },
      "source": [
        "from sklearn import metrics\n",
        "print('Confusion Matrix')\n",
        "print('___'*10)\n",
        "cm=metrics.confusion_matrix(y_test,y_pred)\n",
        "df_cm=pd.DataFrame(cm)\n",
        "plt.figure(figsize=(7,5))\n",
        "sns.heatmap(df_cm,annot=True)\n",
        "print(\"accuracy score -\",metrics.accuracy_score(y_test,y_pred))"
      ],
      "execution_count": null,
      "outputs": [
        {
          "output_type": "stream",
          "name": "stdout",
          "text": [
            "Confusion Matrix\n",
            "______________________________\n",
            "accuracy score - 0.862\n"
          ]
        },
        {
          "output_type": "display_data",
          "data": {
            "image/png": "[encoded data removed]",
            "text/plain": [
              "<Figure size 504x360 with 2 Axes>"
            ]
          },
          "metadata": {
            "needs_background": "light"
          }
        }
      ]
    },
    {
      "cell_type": "code",
      "metadata": {
        "id": "f7jr-VATKbXq"
      },
      "source": [
        ""
      ],
      "execution_count": null,
      "outputs": []
    }
  ]
}